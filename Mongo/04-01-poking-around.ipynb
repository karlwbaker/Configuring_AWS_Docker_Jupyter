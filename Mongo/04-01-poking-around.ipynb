{
 "cells": [
  {
   "cell_type": "code",
   "execution_count": 38,
   "metadata": {},
   "outputs": [],
   "source": [
    "! pip install boto3 pymongo twitter --quiet"
   ]
  },
  {
   "cell_type": "code",
   "execution_count": 39,
   "metadata": {},
   "outputs": [],
   "source": [
    "from pymongo import MongoClient"
   ]
  },
  {
   "cell_type": "code",
   "execution_count": 40,
   "metadata": {},
   "outputs": [],
   "source": [
    "mongo_client = MongoClient('18.236.138.158', 27016)\n",
    "database_reference = mongo_client.twitter\n",
    "collection_reference = database_reference.tweets # connection to the tweets collection"
   ]
  },
  {
   "cell_type": "code",
   "execution_count": 41,
   "metadata": {},
   "outputs": [],
   "source": [
    "cursor = collection_reference.find() # find() with no args returns everything"
   ]
  },
  {
   "cell_type": "code",
   "execution_count": 42,
   "metadata": {
    "collapsed": true
   },
   "outputs": [
    {
     "data": {
      "text/plain": [
       "{'_id': ObjectId('5b562057cfd9de0efb61d3b5'),\n",
       " 'created_at': 'Sat Jul 21 20:58:43 +0000 2018',\n",
       " 'id': 1020775097898917888,\n",
       " 'id_str': '1020775097898917888',\n",
       " 'text': 'Can’t wait to go home and play video games already smh',\n",
       " 'source': '<a href=\"http://twitter.com/download/iphone\" rel=\"nofollow\">Twitter for iPhone</a>',\n",
       " 'truncated': False,\n",
       " 'in_reply_to_status_id': None,\n",
       " 'in_reply_to_status_id_str': None,\n",
       " 'in_reply_to_user_id': None,\n",
       " 'in_reply_to_user_id_str': None,\n",
       " 'in_reply_to_screen_name': None,\n",
       " 'user': {'id': 3096943027,\n",
       "  'id_str': '3096943027',\n",
       "  'name': 'mattygeee',\n",
       "  'screen_name': 'Mattygeee1',\n",
       "  'location': 'Los Angeles, CA',\n",
       "  'url': None,\n",
       "  'description': None,\n",
       "  'translator_type': 'none',\n",
       "  'protected': False,\n",
       "  'verified': False,\n",
       "  'followers_count': 286,\n",
       "  'friends_count': 399,\n",
       "  'listed_count': 4,\n",
       "  'favourites_count': 7501,\n",
       "  'statuses_count': 17775,\n",
       "  'created_at': 'Thu Mar 19 01:14:05 +0000 2015',\n",
       "  'utc_offset': None,\n",
       "  'time_zone': None,\n",
       "  'geo_enabled': True,\n",
       "  'lang': 'en',\n",
       "  'contributors_enabled': False,\n",
       "  'is_translator': False,\n",
       "  'profile_background_color': '000000',\n",
       "  'profile_background_image_url': 'http://abs.twimg.com/images/themes/theme1/bg.png',\n",
       "  'profile_background_image_url_https': 'https://abs.twimg.com/images/themes/theme1/bg.png',\n",
       "  'profile_background_tile': False,\n",
       "  'profile_link_color': 'E81C4F',\n",
       "  'profile_sidebar_border_color': '000000',\n",
       "  'profile_sidebar_fill_color': '000000',\n",
       "  'profile_text_color': '000000',\n",
       "  'profile_use_background_image': False,\n",
       "  'profile_image_url': 'http://pbs.twimg.com/profile_images/976278641431650304/QDCKALf8_normal.jpg',\n",
       "  'profile_image_url_https': 'https://pbs.twimg.com/profile_images/976278641431650304/QDCKALf8_normal.jpg',\n",
       "  'profile_banner_url': 'https://pbs.twimg.com/profile_banners/3096943027/1522005281',\n",
       "  'default_profile': False,\n",
       "  'default_profile_image': False,\n",
       "  'following': None,\n",
       "  'follow_request_sent': None,\n",
       "  'notifications': None},\n",
       " 'geo': None,\n",
       " 'coordinates': None,\n",
       " 'place': {'id': '59612bd882018c51',\n",
       "  'url': 'https://api.twitter.com/1.1/geo/id/59612bd882018c51.json',\n",
       "  'place_type': 'city',\n",
       "  'name': 'Santa Monica',\n",
       "  'full_name': 'Santa Monica, CA',\n",
       "  'country_code': 'US',\n",
       "  'country': 'United States',\n",
       "  'bounding_box': {'type': 'Polygon',\n",
       "   'coordinates': [[[-118.517358, 33.995177],\n",
       "     [-118.517358, 34.050199],\n",
       "     [-118.443482, 34.050199],\n",
       "     [-118.443482, 33.995177]]]},\n",
       "  'attributes': {}},\n",
       " 'contributors': None,\n",
       " 'is_quote_status': False,\n",
       " 'quote_count': 0,\n",
       " 'reply_count': 0,\n",
       " 'retweet_count': 0,\n",
       " 'favorite_count': 0,\n",
       " 'entities': {'hashtags': [], 'urls': [], 'user_mentions': [], 'symbols': []},\n",
       " 'favorited': False,\n",
       " 'retweeted': False,\n",
       " 'filter_level': 'low',\n",
       " 'lang': 'en',\n",
       " 'timestamp_ms': '1532206723080'}"
      ]
     },
     "execution_count": 42,
     "metadata": {},
     "output_type": "execute_result"
    }
   ],
   "source": [
    "next(cursor)"
   ]
  },
  {
   "cell_type": "code",
   "execution_count": 43,
   "metadata": {},
   "outputs": [],
   "source": [
    "cursor = collection_reference.find() # creates a search result, a list"
   ]
  },
  {
   "cell_type": "code",
   "execution_count": 74,
   "metadata": {},
   "outputs": [
    {
     "data": {
      "text/plain": [
       "109503"
      ]
     },
     "execution_count": 74,
     "metadata": {},
     "output_type": "execute_result"
    }
   ],
   "source": [
    "collection_reference.count_documents({}) # count documents in mongo"
   ]
  },
  {
   "cell_type": "code",
   "execution_count": 35,
   "metadata": {},
   "outputs": [],
   "source": [
    "# or we can aggregate the data according to criteria\n",
    "# $sample is a mongo function\n",
    "cursor_sampl = collection_reference.aggregate(\n",
    "    [{'$sample': {'size': 20}}]\n",
    ")"
   ]
  },
  {
   "cell_type": "code",
   "execution_count": 36,
   "metadata": {},
   "outputs": [
    {
     "data": {
      "text/plain": [
       "20"
      ]
     },
     "execution_count": 36,
     "metadata": {},
     "output_type": "execute_result"
    }
   ],
   "source": [
    "len(list(cursor_sampl)) "
   ]
  },
  {
   "cell_type": "code",
   "execution_count": 37,
   "metadata": {},
   "outputs": [
    {
     "ename": "StopIteration",
     "evalue": "",
     "output_type": "error",
     "traceback": [
      "\u001b[0;31m---------------------------------------------------------------------------\u001b[0m",
      "\u001b[0;31mStopIteration\u001b[0m                             Traceback (most recent call last)",
      "\u001b[0;32m<ipython-input-37-96be4d43b38c>\u001b[0m in \u001b[0;36m<module>\u001b[0;34m()\u001b[0m\n\u001b[0;32m----> 1\u001b[0;31m \u001b[0mnext\u001b[0m\u001b[0;34m(\u001b[0m\u001b[0mcursor_sampl\u001b[0m\u001b[0;34m)\u001b[0m\u001b[0;34m\u001b[0m\u001b[0m\n\u001b[0m",
      "\u001b[0;32m/opt/conda/lib/python3.6/site-packages/pymongo/command_cursor.py\u001b[0m in \u001b[0;36mnext\u001b[0;34m(self)\u001b[0m\n\u001b[1;32m    292\u001b[0m             \u001b[0;32mreturn\u001b[0m \u001b[0mcoll\u001b[0m\u001b[0;34m.\u001b[0m\u001b[0mdatabase\u001b[0m\u001b[0;34m.\u001b[0m\u001b[0m_fix_outgoing\u001b[0m\u001b[0;34m(\u001b[0m\u001b[0mself\u001b[0m\u001b[0;34m.\u001b[0m\u001b[0m__data\u001b[0m\u001b[0;34m.\u001b[0m\u001b[0mpopleft\u001b[0m\u001b[0;34m(\u001b[0m\u001b[0;34m)\u001b[0m\u001b[0;34m,\u001b[0m \u001b[0mcoll\u001b[0m\u001b[0;34m)\u001b[0m\u001b[0;34m\u001b[0m\u001b[0m\n\u001b[1;32m    293\u001b[0m         \u001b[0;32melse\u001b[0m\u001b[0;34m:\u001b[0m\u001b[0;34m\u001b[0m\u001b[0m\n\u001b[0;32m--> 294\u001b[0;31m             \u001b[0;32mraise\u001b[0m \u001b[0mStopIteration\u001b[0m\u001b[0;34m\u001b[0m\u001b[0m\n\u001b[0m\u001b[1;32m    295\u001b[0m \u001b[0;34m\u001b[0m\u001b[0m\n\u001b[1;32m    296\u001b[0m     \u001b[0m__next__\u001b[0m \u001b[0;34m=\u001b[0m \u001b[0mnext\u001b[0m\u001b[0;34m\u001b[0m\u001b[0m\n",
      "\u001b[0;31mStopIteration\u001b[0m: "
     ]
    }
   ],
   "source": [
    "next(cursor_sampl)"
   ]
  },
  {
   "cell_type": "code",
   "execution_count": 13,
   "metadata": {},
   "outputs": [],
   "source": [
    "cursor_sampl = collection_reference.aggregate([{'$sample': {'size': 1}}])"
   ]
  },
  {
   "cell_type": "code",
   "execution_count": 14,
   "metadata": {},
   "outputs": [],
   "source": [
    "tw = next(cursor_sampl)"
   ]
  },
  {
   "cell_type": "code",
   "execution_count": 15,
   "metadata": {},
   "outputs": [
    {
     "data": {
      "text/plain": [
       "dict_keys(['_id', 'created_at', 'id', 'id_str', 'text', 'source', 'truncated', 'in_reply_to_status_id', 'in_reply_to_status_id_str', 'in_reply_to_user_id', 'in_reply_to_user_id_str', 'in_reply_to_screen_name', 'user', 'geo', 'coordinates', 'place', 'contributors', 'is_quote_status', 'quote_count', 'reply_count', 'retweet_count', 'favorite_count', 'entities', 'favorited', 'retweeted', 'filter_level', 'lang', 'timestamp_ms'])"
      ]
     },
     "execution_count": 15,
     "metadata": {},
     "output_type": "execute_result"
    }
   ],
   "source": [
    "tw.keys()"
   ]
  },
  {
   "cell_type": "code",
   "execution_count": 16,
   "metadata": {},
   "outputs": [
    {
     "data": {
      "text/plain": [
       "[ObjectId('5b59245535c77d0014b73433'),\n",
       " 'Thu Jul 26 01:13:19 +0000 2018',\n",
       " 1022288723713581056,\n",
       " '1022288723713581056',\n",
       " 'It’s SOOOOO fucking hot.']"
      ]
     },
     "execution_count": 16,
     "metadata": {},
     "output_type": "execute_result"
    }
   ],
   "source": [
    "list(tw.values())[:5]"
   ]
  },
  {
   "cell_type": "code",
   "execution_count": 17,
   "metadata": {},
   "outputs": [],
   "source": [
    "import pandas as pd"
   ]
  },
  {
   "cell_type": "code",
   "execution_count": 18,
   "metadata": {},
   "outputs": [],
   "source": [
    "cursor = collection_reference.aggregate([{'$sample': {'size': 5}}])\n",
    "\n",
    "tw_sample_df = pd.DataFrame(list(cursor))"
   ]
  },
  {
   "cell_type": "code",
   "execution_count": 19,
   "metadata": {},
   "outputs": [
    {
     "data": {
      "text/plain": [
       "_id                           object\n",
       "contributors                  object\n",
       "coordinates                   object\n",
       "created_at                    object\n",
       "display_text_range            object\n",
       "entities                      object\n",
       "favorite_count                 int64\n",
       "favorited                       bool\n",
       "filter_level                  object\n",
       "geo                           object\n",
       "id                             int64\n",
       "id_str                        object\n",
       "in_reply_to_screen_name       object\n",
       "in_reply_to_status_id        float64\n",
       "in_reply_to_status_id_str     object\n",
       "in_reply_to_user_id          float64\n",
       "in_reply_to_user_id_str       object\n",
       "is_quote_status                 bool\n",
       "lang                          object\n",
       "place                         object\n",
       "possibly_sensitive            object\n",
       "quote_count                    int64\n",
       "quoted_status                 object\n",
       "quoted_status_id             float64\n",
       "quoted_status_id_str          object\n",
       "quoted_status_permalink       object\n",
       "reply_count                    int64\n",
       "retweet_count                  int64\n",
       "retweeted                       bool\n",
       "source                        object\n",
       "text                          object\n",
       "timestamp_ms                  object\n",
       "truncated                       bool\n",
       "user                          object\n",
       "dtype: object"
      ]
     },
     "execution_count": 19,
     "metadata": {},
     "output_type": "execute_result"
    }
   ],
   "source": [
    "tw_sample_df.dtypes # mongo doesn't have datatypes; this is what pd thinks the datatypes are."
   ]
  },
  {
   "cell_type": "code",
   "execution_count": 20,
   "metadata": {},
   "outputs": [
    {
     "data": {
      "text/html": [
       "<div>\n",
       "<style scoped>\n",
       "    .dataframe tbody tr th:only-of-type {\n",
       "        vertical-align: middle;\n",
       "    }\n",
       "\n",
       "    .dataframe tbody tr th {\n",
       "        vertical-align: top;\n",
       "    }\n",
       "\n",
       "    .dataframe thead th {\n",
       "        text-align: right;\n",
       "    }\n",
       "</style>\n",
       "<table border=\"1\" class=\"dataframe\">\n",
       "  <thead>\n",
       "    <tr style=\"text-align: right;\">\n",
       "      <th></th>\n",
       "      <th>favorite_count</th>\n",
       "      <th>id</th>\n",
       "      <th>quote_count</th>\n",
       "      <th>reply_count</th>\n",
       "      <th>retweet_count</th>\n",
       "    </tr>\n",
       "  </thead>\n",
       "  <tbody>\n",
       "    <tr>\n",
       "      <th>0</th>\n",
       "      <td>0</td>\n",
       "      <td>1022172887904530433</td>\n",
       "      <td>0</td>\n",
       "      <td>0</td>\n",
       "      <td>0</td>\n",
       "    </tr>\n",
       "    <tr>\n",
       "      <th>1</th>\n",
       "      <td>0</td>\n",
       "      <td>1021583186667565056</td>\n",
       "      <td>0</td>\n",
       "      <td>0</td>\n",
       "      <td>0</td>\n",
       "    </tr>\n",
       "    <tr>\n",
       "      <th>2</th>\n",
       "      <td>0</td>\n",
       "      <td>1022288723713581056</td>\n",
       "      <td>0</td>\n",
       "      <td>0</td>\n",
       "      <td>0</td>\n",
       "    </tr>\n",
       "    <tr>\n",
       "      <th>3</th>\n",
       "      <td>0</td>\n",
       "      <td>1022182778807377920</td>\n",
       "      <td>0</td>\n",
       "      <td>0</td>\n",
       "      <td>0</td>\n",
       "    </tr>\n",
       "    <tr>\n",
       "      <th>4</th>\n",
       "      <td>0</td>\n",
       "      <td>1020775097898917888</td>\n",
       "      <td>0</td>\n",
       "      <td>0</td>\n",
       "      <td>0</td>\n",
       "    </tr>\n",
       "  </tbody>\n",
       "</table>\n",
       "</div>"
      ],
      "text/plain": [
       "   favorite_count                   id  quote_count  reply_count  \\\n",
       "0               0  1022172887904530433            0            0   \n",
       "1               0  1021583186667565056            0            0   \n",
       "2               0  1022288723713581056            0            0   \n",
       "3               0  1022182778807377920            0            0   \n",
       "4               0  1020775097898917888            0            0   \n",
       "\n",
       "   retweet_count  \n",
       "0              0  \n",
       "1              0  \n",
       "2              0  \n",
       "3              0  \n",
       "4              0  "
      ]
     },
     "execution_count": 20,
     "metadata": {},
     "output_type": "execute_result"
    }
   ],
   "source": [
    "tw_sample_df.select_dtypes([int])"
   ]
  },
  {
   "cell_type": "code",
   "execution_count": 21,
   "metadata": {},
   "outputs": [
    {
     "data": {
      "text/html": [
       "<div>\n",
       "<style scoped>\n",
       "    .dataframe tbody tr th:only-of-type {\n",
       "        vertical-align: middle;\n",
       "    }\n",
       "\n",
       "    .dataframe tbody tr th {\n",
       "        vertical-align: top;\n",
       "    }\n",
       "\n",
       "    .dataframe thead th {\n",
       "        text-align: right;\n",
       "    }\n",
       "</style>\n",
       "<table border=\"1\" class=\"dataframe\">\n",
       "  <thead>\n",
       "    <tr style=\"text-align: right;\">\n",
       "      <th></th>\n",
       "      <th>in_reply_to_status_id</th>\n",
       "      <th>in_reply_to_user_id</th>\n",
       "      <th>quoted_status_id</th>\n",
       "    </tr>\n",
       "  </thead>\n",
       "  <tbody>\n",
       "    <tr>\n",
       "      <th>0</th>\n",
       "      <td>1.022159e+18</td>\n",
       "      <td>1.343821e+09</td>\n",
       "      <td>NaN</td>\n",
       "    </tr>\n",
       "    <tr>\n",
       "      <th>1</th>\n",
       "      <td>NaN</td>\n",
       "      <td>NaN</td>\n",
       "      <td>NaN</td>\n",
       "    </tr>\n",
       "    <tr>\n",
       "      <th>2</th>\n",
       "      <td>NaN</td>\n",
       "      <td>NaN</td>\n",
       "      <td>NaN</td>\n",
       "    </tr>\n",
       "    <tr>\n",
       "      <th>3</th>\n",
       "      <td>NaN</td>\n",
       "      <td>NaN</td>\n",
       "      <td>1.022151e+18</td>\n",
       "    </tr>\n",
       "    <tr>\n",
       "      <th>4</th>\n",
       "      <td>NaN</td>\n",
       "      <td>NaN</td>\n",
       "      <td>NaN</td>\n",
       "    </tr>\n",
       "  </tbody>\n",
       "</table>\n",
       "</div>"
      ],
      "text/plain": [
       "   in_reply_to_status_id  in_reply_to_user_id  quoted_status_id\n",
       "0           1.022159e+18         1.343821e+09               NaN\n",
       "1                    NaN                  NaN               NaN\n",
       "2                    NaN                  NaN               NaN\n",
       "3                    NaN                  NaN      1.022151e+18\n",
       "4                    NaN                  NaN               NaN"
      ]
     },
     "execution_count": 21,
     "metadata": {},
     "output_type": "execute_result"
    }
   ],
   "source": [
    "tw_sample_df.select_dtypes([float])"
   ]
  },
  {
   "cell_type": "code",
   "execution_count": 22,
   "metadata": {
    "scrolled": false
   },
   "outputs": [
    {
     "data": {
      "text/html": [
       "<div>\n",
       "<style scoped>\n",
       "    .dataframe tbody tr th:only-of-type {\n",
       "        vertical-align: middle;\n",
       "    }\n",
       "\n",
       "    .dataframe tbody tr th {\n",
       "        vertical-align: top;\n",
       "    }\n",
       "\n",
       "    .dataframe thead th {\n",
       "        text-align: right;\n",
       "    }\n",
       "</style>\n",
       "<table border=\"1\" class=\"dataframe\">\n",
       "  <thead>\n",
       "    <tr style=\"text-align: right;\">\n",
       "      <th></th>\n",
       "      <th>_id</th>\n",
       "      <th>contributors</th>\n",
       "      <th>coordinates</th>\n",
       "      <th>created_at</th>\n",
       "      <th>display_text_range</th>\n",
       "      <th>entities</th>\n",
       "      <th>filter_level</th>\n",
       "      <th>geo</th>\n",
       "      <th>id_str</th>\n",
       "      <th>in_reply_to_screen_name</th>\n",
       "      <th>...</th>\n",
       "      <th>lang</th>\n",
       "      <th>place</th>\n",
       "      <th>possibly_sensitive</th>\n",
       "      <th>quoted_status</th>\n",
       "      <th>quoted_status_id_str</th>\n",
       "      <th>quoted_status_permalink</th>\n",
       "      <th>source</th>\n",
       "      <th>text</th>\n",
       "      <th>timestamp_ms</th>\n",
       "      <th>user</th>\n",
       "    </tr>\n",
       "  </thead>\n",
       "  <tbody>\n",
       "    <tr>\n",
       "      <th>0</th>\n",
       "      <td>5b58b54b3aed5a010fe914fb</td>\n",
       "      <td>None</td>\n",
       "      <td>None</td>\n",
       "      <td>Wed Jul 25 17:33:02 +0000 2018</td>\n",
       "      <td>[14, 30]</td>\n",
       "      <td>{'hashtags': [], 'urls': [], 'user_mentions': ...</td>\n",
       "      <td>low</td>\n",
       "      <td>None</td>\n",
       "      <td>1022172887904530433</td>\n",
       "      <td>AndDavidSays</td>\n",
       "      <td>...</td>\n",
       "      <td>en</td>\n",
       "      <td>{'id': '3b77caf94bfc81fe', 'url': 'https://api...</td>\n",
       "      <td>NaN</td>\n",
       "      <td>NaN</td>\n",
       "      <td>NaN</td>\n",
       "      <td>NaN</td>\n",
       "      <td>&lt;a href=\"http://twitter.com/download/iphone\" r...</td>\n",
       "      <td>@AndDavidSays Father-Son goals</td>\n",
       "      <td>1532539982187</td>\n",
       "      <td>{'id': 982927124, 'id_str': '982927124', 'name...</td>\n",
       "    </tr>\n",
       "    <tr>\n",
       "      <th>1</th>\n",
       "      <td>5b5924781a6d220be7f18b39</td>\n",
       "      <td>None</td>\n",
       "      <td>None</td>\n",
       "      <td>Tue Jul 24 02:29:46 +0000 2018</td>\n",
       "      <td>NaN</td>\n",
       "      <td>{'hashtags': [], 'urls': [], 'user_mentions': ...</td>\n",
       "      <td>low</td>\n",
       "      <td>None</td>\n",
       "      <td>1021583186667565056</td>\n",
       "      <td>None</td>\n",
       "      <td>...</td>\n",
       "      <td>ko</td>\n",
       "      <td>{'id': '3b77caf94bfc81fe', 'url': 'https://api...</td>\n",
       "      <td>NaN</td>\n",
       "      <td>NaN</td>\n",
       "      <td>NaN</td>\n",
       "      <td>NaN</td>\n",
       "      <td>&lt;a href=\"http://twitter.com\" rel=\"nofollow\"&gt;Tw...</td>\n",
       "      <td>리센퉁 싱가폴총리는 가슴에 싱가폴기와 태극기 뱃지를 달았다. 그러나 문씨는 태극기 ...</td>\n",
       "      <td>1532399386456</td>\n",
       "      <td>{'id': 305774740, 'id_str': '305774740', 'name...</td>\n",
       "    </tr>\n",
       "    <tr>\n",
       "      <th>2</th>\n",
       "      <td>5b59245535c77d0014b73433</td>\n",
       "      <td>None</td>\n",
       "      <td>None</td>\n",
       "      <td>Thu Jul 26 01:13:19 +0000 2018</td>\n",
       "      <td>NaN</td>\n",
       "      <td>{'hashtags': [], 'urls': [], 'user_mentions': ...</td>\n",
       "      <td>low</td>\n",
       "      <td>None</td>\n",
       "      <td>1022288723713581056</td>\n",
       "      <td>None</td>\n",
       "      <td>...</td>\n",
       "      <td>en</td>\n",
       "      <td>{'id': '3b77caf94bfc81fe', 'url': 'https://api...</td>\n",
       "      <td>NaN</td>\n",
       "      <td>NaN</td>\n",
       "      <td>NaN</td>\n",
       "      <td>NaN</td>\n",
       "      <td>&lt;a href=\"http://twitter.com/download/iphone\" r...</td>\n",
       "      <td>It’s SOOOOO fucking hot.</td>\n",
       "      <td>1532567599596</td>\n",
       "      <td>{'id': 721603736884236290, 'id_str': '72160373...</td>\n",
       "    </tr>\n",
       "    <tr>\n",
       "      <th>3</th>\n",
       "      <td>5b58bea63aed5a010fe91cbd</td>\n",
       "      <td>None</td>\n",
       "      <td>None</td>\n",
       "      <td>Wed Jul 25 18:12:20 +0000 2018</td>\n",
       "      <td>[0, 46]</td>\n",
       "      <td>{'hashtags': [], 'urls': [{'url': 'https://t.c...</td>\n",
       "      <td>low</td>\n",
       "      <td>None</td>\n",
       "      <td>1022182778807377920</td>\n",
       "      <td>None</td>\n",
       "      <td>...</td>\n",
       "      <td>en</td>\n",
       "      <td>{'id': '3b77caf94bfc81fe', 'url': 'https://api...</td>\n",
       "      <td>False</td>\n",
       "      <td>{'created_at': 'Wed Jul 25 16:04:48 +0000 2018...</td>\n",
       "      <td>1022150684907634688</td>\n",
       "      <td>{'url': 'https://t.co/cw1LB1HNr8', 'expanded':...</td>\n",
       "      <td>&lt;a href=\"http://twitter.com/download/iphone\" r...</td>\n",
       "      <td>There’s no correlation in these two situations...</td>\n",
       "      <td>1532542340362</td>\n",
       "      <td>{'id': 601375097, 'id_str': '601375097', 'name...</td>\n",
       "    </tr>\n",
       "    <tr>\n",
       "      <th>4</th>\n",
       "      <td>5b5923de0cff4002d5673f84</td>\n",
       "      <td>None</td>\n",
       "      <td>None</td>\n",
       "      <td>Sat Jul 21 20:58:43 +0000 2018</td>\n",
       "      <td>NaN</td>\n",
       "      <td>{'hashtags': [], 'urls': [], 'user_mentions': ...</td>\n",
       "      <td>low</td>\n",
       "      <td>None</td>\n",
       "      <td>1020775097898917888</td>\n",
       "      <td>None</td>\n",
       "      <td>...</td>\n",
       "      <td>en</td>\n",
       "      <td>{'id': '59612bd882018c51', 'url': 'https://api...</td>\n",
       "      <td>NaN</td>\n",
       "      <td>NaN</td>\n",
       "      <td>NaN</td>\n",
       "      <td>NaN</td>\n",
       "      <td>&lt;a href=\"http://twitter.com/download/iphone\" r...</td>\n",
       "      <td>Can’t wait to go home and play video games alr...</td>\n",
       "      <td>1532206723080</td>\n",
       "      <td>{'id': 3096943027, 'id_str': '3096943027', 'na...</td>\n",
       "    </tr>\n",
       "  </tbody>\n",
       "</table>\n",
       "<p>5 rows × 22 columns</p>\n",
       "</div>"
      ],
      "text/plain": [
       "                        _id contributors coordinates  \\\n",
       "0  5b58b54b3aed5a010fe914fb         None        None   \n",
       "1  5b5924781a6d220be7f18b39         None        None   \n",
       "2  5b59245535c77d0014b73433         None        None   \n",
       "3  5b58bea63aed5a010fe91cbd         None        None   \n",
       "4  5b5923de0cff4002d5673f84         None        None   \n",
       "\n",
       "                       created_at display_text_range  \\\n",
       "0  Wed Jul 25 17:33:02 +0000 2018           [14, 30]   \n",
       "1  Tue Jul 24 02:29:46 +0000 2018                NaN   \n",
       "2  Thu Jul 26 01:13:19 +0000 2018                NaN   \n",
       "3  Wed Jul 25 18:12:20 +0000 2018            [0, 46]   \n",
       "4  Sat Jul 21 20:58:43 +0000 2018                NaN   \n",
       "\n",
       "                                            entities filter_level   geo  \\\n",
       "0  {'hashtags': [], 'urls': [], 'user_mentions': ...          low  None   \n",
       "1  {'hashtags': [], 'urls': [], 'user_mentions': ...          low  None   \n",
       "2  {'hashtags': [], 'urls': [], 'user_mentions': ...          low  None   \n",
       "3  {'hashtags': [], 'urls': [{'url': 'https://t.c...          low  None   \n",
       "4  {'hashtags': [], 'urls': [], 'user_mentions': ...          low  None   \n",
       "\n",
       "                id_str in_reply_to_screen_name  \\\n",
       "0  1022172887904530433            AndDavidSays   \n",
       "1  1021583186667565056                    None   \n",
       "2  1022288723713581056                    None   \n",
       "3  1022182778807377920                    None   \n",
       "4  1020775097898917888                    None   \n",
       "\n",
       "                         ...                         lang  \\\n",
       "0                        ...                           en   \n",
       "1                        ...                           ko   \n",
       "2                        ...                           en   \n",
       "3                        ...                           en   \n",
       "4                        ...                           en   \n",
       "\n",
       "                                               place possibly_sensitive  \\\n",
       "0  {'id': '3b77caf94bfc81fe', 'url': 'https://api...                NaN   \n",
       "1  {'id': '3b77caf94bfc81fe', 'url': 'https://api...                NaN   \n",
       "2  {'id': '3b77caf94bfc81fe', 'url': 'https://api...                NaN   \n",
       "3  {'id': '3b77caf94bfc81fe', 'url': 'https://api...              False   \n",
       "4  {'id': '59612bd882018c51', 'url': 'https://api...                NaN   \n",
       "\n",
       "                                       quoted_status quoted_status_id_str  \\\n",
       "0                                                NaN                  NaN   \n",
       "1                                                NaN                  NaN   \n",
       "2                                                NaN                  NaN   \n",
       "3  {'created_at': 'Wed Jul 25 16:04:48 +0000 2018...  1022150684907634688   \n",
       "4                                                NaN                  NaN   \n",
       "\n",
       "                             quoted_status_permalink  \\\n",
       "0                                                NaN   \n",
       "1                                                NaN   \n",
       "2                                                NaN   \n",
       "3  {'url': 'https://t.co/cw1LB1HNr8', 'expanded':...   \n",
       "4                                                NaN   \n",
       "\n",
       "                                              source  \\\n",
       "0  <a href=\"http://twitter.com/download/iphone\" r...   \n",
       "1  <a href=\"http://twitter.com\" rel=\"nofollow\">Tw...   \n",
       "2  <a href=\"http://twitter.com/download/iphone\" r...   \n",
       "3  <a href=\"http://twitter.com/download/iphone\" r...   \n",
       "4  <a href=\"http://twitter.com/download/iphone\" r...   \n",
       "\n",
       "                                                text   timestamp_ms  \\\n",
       "0                     @AndDavidSays Father-Son goals  1532539982187   \n",
       "1  리센퉁 싱가폴총리는 가슴에 싱가폴기와 태극기 뱃지를 달았다. 그러나 문씨는 태극기 ...  1532399386456   \n",
       "2                           It’s SOOOOO fucking hot.  1532567599596   \n",
       "3  There’s no correlation in these two situations...  1532542340362   \n",
       "4  Can’t wait to go home and play video games alr...  1532206723080   \n",
       "\n",
       "                                                user  \n",
       "0  {'id': 982927124, 'id_str': '982927124', 'name...  \n",
       "1  {'id': 305774740, 'id_str': '305774740', 'name...  \n",
       "2  {'id': 721603736884236290, 'id_str': '72160373...  \n",
       "3  {'id': 601375097, 'id_str': '601375097', 'name...  \n",
       "4  {'id': 3096943027, 'id_str': '3096943027', 'na...  \n",
       "\n",
       "[5 rows x 22 columns]"
      ]
     },
     "execution_count": 22,
     "metadata": {},
     "output_type": "execute_result"
    }
   ],
   "source": [
    "tw_sample_df.select_dtypes(['object'])"
   ]
  },
  {
   "cell_type": "code",
   "execution_count": 23,
   "metadata": {},
   "outputs": [],
   "source": [
    "tw_sample_df['created_at'] = pd.to_datetime(tw_sample_df['created_at'])"
   ]
  },
  {
   "cell_type": "code",
   "execution_count": 24,
   "metadata": {},
   "outputs": [
    {
     "data": {
      "text/plain": [
       "0   2018-07-25 17:33:02\n",
       "1   2018-07-24 02:29:46\n",
       "2   2018-07-26 01:13:19\n",
       "3   2018-07-25 18:12:20\n",
       "4   2018-07-21 20:58:43\n",
       "Name: created_at, dtype: datetime64[ns]"
      ]
     },
     "execution_count": 24,
     "metadata": {},
     "output_type": "execute_result"
    }
   ],
   "source": [
    "tw_sample_df.created_at"
   ]
  },
  {
   "cell_type": "markdown",
   "metadata": {},
   "source": [
    "## Tweets Containing Geo Information"
   ]
  },
  {
   "cell_type": "code",
   "execution_count": 26,
   "metadata": {},
   "outputs": [
    {
     "data": {
      "text/plain": [
       "<pymongo.cursor.Cursor at 0x7fb23ef96fd0>"
      ]
     },
     "execution_count": 26,
     "metadata": {},
     "output_type": "execute_result"
    }
   ],
   "source": [
    "contain_geo_search = collection_reference.find({'geo' : { '$ne' : None}}) # want docs where 'geo' key is 'not equal' to none\n",
    "contain_geo_search # Cursor object"
   ]
  },
  {
   "cell_type": "code",
   "execution_count": 27,
   "metadata": {},
   "outputs": [
    {
     "data": {
      "text/plain": [
       "1588"
      ]
     },
     "execution_count": 27,
     "metadata": {},
     "output_type": "execute_result"
    }
   ],
   "source": [
    "collection_reference.count_documents({'geo' : { '$ne' : None}})"
   ]
  },
  {
   "cell_type": "markdown",
   "metadata": {},
   "source": [
    "## Distinct Users\n",
    "\n",
    "#### TRY THIS"
   ]
  },
  {
   "cell_type": "code",
   "execution_count": null,
   "metadata": {},
   "outputs": [],
   "source": [
    "len(collection_reference.distinct('user'))"
   ]
  },
  {
   "cell_type": "code",
   "execution_count": null,
   "metadata": {},
   "outputs": [],
   "source": []
  }
 ],
 "metadata": {
  "kernelspec": {
   "display_name": "Python 3",
   "language": "python",
   "name": "python3"
  },
  "language_info": {
   "codemirror_mode": {
    "name": "ipython",
    "version": 3
   },
   "file_extension": ".py",
   "mimetype": "text/x-python",
   "name": "python",
   "nbconvert_exporter": "python",
   "pygments_lexer": "ipython3",
   "version": "3.6.5"
  }
 },
 "nbformat": 4,
 "nbformat_minor": 2
}
